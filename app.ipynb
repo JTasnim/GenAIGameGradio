{
 "cells": [
  {
   "cell_type": "code",
   "execution_count": 2,
   "id": "22738131-fcfd-462c-921f-4f5a76578ed0",
   "metadata": {},
   "outputs": [],
   "source": [
    "\n",
    "import os\n",
    "import io\n",
    "import base64\n",
    "import requests\n",
    "import json\n",
    "from PIL import Image\n",
    "from dotenv import load_dotenv, find_dotenv\n",
    "import gradio as gr\n",
    "\n",
    "# Load API keys from .env file\n",
    "_ = load_dotenv(find_dotenv())\n",
    "hf_api_key = os.environ['HF_API_KEY']"
   ]
  },
  {
   "cell_type": "code",
   "execution_count": 3,
   "id": "7739b4ea-6180-401a-bb51-734ec90ccfa1",
   "metadata": {},
   "outputs": [],
   "source": [
    "# Helper function to make API request and handle JSON/binary responses\n",
    "def get_completion(inputs, parameters=None, ENDPOINT_URL=\"\"):\n",
    "    headers = {\n",
    "        \"Authorization\": f\"Bearer {hf_api_key}\",\n",
    "        \"Content-Type\": \"application/json\"\n",
    "    }\n",
    "    data = {\"inputs\": inputs}\n",
    "    if parameters is not None:\n",
    "        data.update({\"parameters\": parameters})\n",
    "    \n",
    "    response = requests.post(ENDPOINT_URL, headers=headers, data=json.dumps(data))\n",
    "    \n",
    "    # Check if response is JSON or binary content\n",
    "    try:\n",
    "        return response.json()\n",
    "    except json.JSONDecodeError:\n",
    "        # If binary, return the raw content\n",
    "        return response.content"
   ]
  },
  {
   "cell_type": "code",
   "execution_count": 4,
   "id": "37638cfb-0dbc-4318-9646-175292e2d027",
   "metadata": {},
   "outputs": [],
   "source": [
    "#######################################################\n",
    "# Step 1: text-to-image\n",
    "#######################################################\n",
    "\n",
    "TTI_ENDPOINT = os.environ['HF_API_TTI_BASE']\n",
    "ITT_ENDPOINT = os.environ['HF_API_ITT_BASE']"
   ]
  },
  {
   "cell_type": "code",
   "execution_count": 5,
   "id": "b07b0046-d57e-419e-aa24-ed2a65d28ff8",
   "metadata": {},
   "outputs": [],
   "source": [
    "#######################################################\n",
    "# Step 2: Building your game with `gr.Blocks()`\n",
    "#######################################################\n",
    "\n",
    "# In[ ]:\n",
    "\n",
    "\n",
    "#######################################################\n",
    "# Step 3: Bringing the functions from lessons 2 and 3!\n",
    "#   - Lesson 2: Image Captioning \n",
    "#   - Lesson 3: Image Generation App!\n",
    "#######################################################\n",
    "\n",
    "\n",
    "# Function to convert PIL image to base64 string\n",
    "def image_to_base64_str(pil_image):\n",
    "    byte_arr = io.BytesIO()\n",
    "    pil_image.save(byte_arr, format='PNG')\n",
    "    byte_arr = byte_arr.getvalue()\n",
    "    return base64.b64encode(byte_arr).decode('utf-8')\n",
    "\n",
    "# Function to convert base64 string to PIL image\n",
    "def base64_to_pil(img_base64):\n",
    "    try:\n",
    "        base64_decoded = base64.b64decode(img_base64)\n",
    "        byte_stream = io.BytesIO(base64_decoded)\n",
    "        pil_image = Image.open(byte_stream)\n",
    "        return pil_image\n",
    "    except (base64.binascii.Error, PIL.UnidentifiedImageError) as e:\n",
    "        print(\"Error decoding image:\", e)\n",
    "        return None\n",
    "\n",
    "# Image Captioning Function\n",
    "def captioner(image):\n",
    "    base64_image = image_to_base64_str(image)\n",
    "    result = get_completion(base64_image, None, ITT_ENDPOINT)\n",
    "    \n",
    "    # Check if response is valid JSON and has 'generated_text' field\n",
    "    if isinstance(result, list) and 'generated_text' in result[0]:\n",
    "        return result[0]['generated_text']\n",
    "    else:\n",
    "        print(\"Error in captioning response:\", result)\n",
    "        return \"Error generating caption.\"\n",
    "\n",
    "# Image Generation Function\n",
    "def generate(prompt):\n",
    "    output = get_completion(prompt, None, TTI_ENDPOINT)\n",
    "    \n",
    "    # Check if the output is in JSON format or binary content\n",
    "    if isinstance(output, bytes):\n",
    "        try:\n",
    "            # Directly interpret the binary response as an image\n",
    "            byte_stream = io.BytesIO(output)\n",
    "            result_image = Image.open(byte_stream)\n",
    "            return result_image\n",
    "        except (IOError, PIL.UnidentifiedImageError) as e:\n",
    "            # Handle the error if the binary data is not a valid image\n",
    "            print(\"Error interpreting binary image data:\", e)\n",
    "            return \"Error: Unexpected binary data.\"\n",
    "    elif isinstance(output, dict):\n",
    "        # Check if the expected base64 image key is in the dictionary\n",
    "        if 'generated_image_base64' in output:\n",
    "            img_base64 = output['generated_image_base64']\n",
    "            return base64_to_pil(img_base64)\n",
    "        else:\n",
    "            print(\"Error in image generation response:\", output)\n",
    "            return \"Error generating image.\"\n",
    "    else:\n",
    "        print(\"Error: Unexpected response format.\")\n",
    "        return \"Error: Unexpected response format from API.\"\n",
    "\n"
   ]
  },
  {
   "cell_type": "code",
   "execution_count": 6,
   "id": "c610186d-a9b4-486f-af7a-11ae484c7452",
   "metadata": {},
   "outputs": [
    {
     "name": "stdout",
     "output_type": "stream",
     "text": [
      "Running on local URL:  http://127.0.0.1:7860\n",
      "Running on public URL: https://d37224975ac78cfeee.gradio.live\n",
      "\n",
      "This share link expires in 72 hours. For free permanent hosting and GPU upgrades, run `gradio deploy` from Terminal to deploy to Spaces (https://huggingface.co/spaces)\n"
     ]
    },
    {
     "data": {
      "text/html": [
       "<div><iframe src=\"https://d37224975ac78cfeee.gradio.live\" width=\"100%\" height=\"500\" allow=\"autoplay; camera; microphone; clipboard-read; clipboard-write;\" frameborder=\"0\" allowfullscreen></iframe></div>"
      ],
      "text/plain": [
       "<IPython.core.display.HTML object>"
      ]
     },
     "metadata": {},
     "output_type": "display_data"
    },
    {
     "data": {
      "text/plain": []
     },
     "execution_count": 6,
     "metadata": {},
     "output_type": "execute_result"
    }
   ],
   "source": [
    "\n",
    "#######################################################\n",
    "# Step 4: First attempt, just captioning\n",
    "#######################################################\n",
    "\n",
    "# In[ ]:\n",
    "\n",
    "\n",
    "import gradio as gr \n",
    "with gr.Blocks() as demo:\n",
    "    gr.Markdown(\"# Describe-and-Generate game\")\n",
    "    image_upload = gr.Image(label=\n",
    "            \"Your first image\",type=\"pil\")\n",
    "    btn_caption = gr.Button(\"Generate caption\")\n",
    "    caption = gr.Textbox(label=\"Generated caption\")\n",
    "    \n",
    "    btn_caption.click(fn=captioner, \n",
    "          inputs=[image_upload], outputs=[caption])\n",
    "\n",
    "gr.close_all()\n",
    "demo.launch(share=True, server_port=\n",
    "          int(os.environ['PORT1']))"
   ]
  },
  {
   "cell_type": "code",
   "execution_count": 7,
   "id": "02881cfb-c08b-414d-83bc-879c6b49004c",
   "metadata": {},
   "outputs": [
    {
     "name": "stdout",
     "output_type": "stream",
     "text": [
      "Running on local URL:  http://127.0.0.1:7861\n",
      "Running on public URL: https://a4a69f7c3260671753.gradio.live\n",
      "\n",
      "This share link expires in 72 hours. For free permanent hosting and GPU upgrades, run `gradio deploy` from Terminal to deploy to Spaces (https://huggingface.co/spaces)\n"
     ]
    },
    {
     "data": {
      "text/html": [
       "<div><iframe src=\"https://a4a69f7c3260671753.gradio.live\" width=\"100%\" height=\"500\" allow=\"autoplay; camera; microphone; clipboard-read; clipboard-write;\" frameborder=\"0\" allowfullscreen></iframe></div>"
      ],
      "text/plain": [
       "<IPython.core.display.HTML object>"
      ]
     },
     "metadata": {},
     "output_type": "display_data"
    },
    {
     "data": {
      "text/plain": []
     },
     "execution_count": 7,
     "metadata": {},
     "output_type": "execute_result"
    }
   ],
   "source": [
    "#######################################################\n",
    "# Step 5: Let's add generation\n",
    "#######################################################\n",
    "\n",
    "# In[ ]:\n",
    "\n",
    "\n",
    "with gr.Blocks() as demo:\n",
    "    gr.Markdown(\"# Describe-and-Generate game \")\n",
    "    image_upload = gr.Image(label=\n",
    "          \"Your first image\",type=\"pil\")\n",
    "    btn_caption = gr.Button(\"Generate caption\")\n",
    "    caption = gr.Textbox(label=\"Generated caption\")\n",
    "    btn_image = gr.Button(\"Generate image\")\n",
    "    image_output = gr.Image(label=\"Generated Image\")\n",
    "    btn_caption.click(fn=captioner, \n",
    "          inputs=[image_upload], outputs=[caption])\n",
    "    btn_image.click(fn=generate, \n",
    "          inputs=[caption], outputs=[image_output])\n",
    "\n",
    "gr.close_all()\n",
    "demo.launch(share=True, \n",
    "          server_port=int(os.environ['PORT2']))"
   ]
  },
  {
   "cell_type": "code",
   "execution_count": 8,
   "id": "dab3770c-e65c-46f9-9177-1b118b5a00a7",
   "metadata": {},
   "outputs": [
    {
     "name": "stdout",
     "output_type": "stream",
     "text": [
      "Running on local URL:  http://127.0.0.1:7863\n",
      "Running on public URL: https://bb1f36b2a530ef101e.gradio.live\n",
      "\n",
      "This share link expires in 72 hours. For free permanent hosting and GPU upgrades, run `gradio deploy` from Terminal to deploy to Spaces (https://huggingface.co/spaces)\n"
     ]
    },
    {
     "data": {
      "text/html": [
       "<div><iframe src=\"https://bb1f36b2a530ef101e.gradio.live\" width=\"100%\" height=\"500\" allow=\"autoplay; camera; microphone; clipboard-read; clipboard-write;\" frameborder=\"0\" allowfullscreen></iframe></div>"
      ],
      "text/plain": [
       "<IPython.core.display.HTML object>"
      ]
     },
     "metadata": {},
     "output_type": "display_data"
    }
   ],
   "source": [
    "#######################################################\n",
    "# Step 6: Doing it all at once! \n",
    "#        Lession 2: Image Captioning\n",
    "#        Lession 3: Image Generation App\n",
    "#######################################################\n",
    "\n",
    "# In[ ]:\n",
    "\n",
    "\n",
    "# Gradio interface\n",
    "def caption_and_generate(image):\n",
    "    caption = captioner(image)\n",
    "    generated_image = generate(caption)\n",
    "    return [caption, generated_image]\n",
    "\n",
    "with gr.Blocks() as demo:\n",
    "    gr.Markdown(\"# Describe-and-Generate game\")\n",
    "    image_upload = gr.Image(label=\"Your first image\", type=\"pil\")\n",
    "    btn_all = gr.Button(\"Caption and generate\")\n",
    "    caption = gr.Textbox(label=\"Generated caption\")\n",
    "    image_output = gr.Image(label=\"Generated Image\")\n",
    "\n",
    "    btn_all.click(fn=caption_and_generate, inputs=[image_upload], outputs=[caption, image_output])\n",
    "\n",
    "demo.launch(share=True, server_port=int(os.environ['PORT3']))\n",
    "\n",
    "\n",
    "# In[ ]:\n",
    "\n",
    "\n",
    "gr.close_all()"
   ]
  },
  {
   "cell_type": "code",
   "execution_count": null,
   "id": "ac80aef6-cbd8-41cd-bdc3-3f8c287f2eaf",
   "metadata": {},
   "outputs": [],
   "source": []
  }
 ],
 "metadata": {
  "kernelspec": {
   "display_name": "Python 3 (ipykernel)",
   "language": "python",
   "name": "python3"
  },
  "language_info": {
   "codemirror_mode": {
    "name": "ipython",
    "version": 3
   },
   "file_extension": ".py",
   "mimetype": "text/x-python",
   "name": "python",
   "nbconvert_exporter": "python",
   "pygments_lexer": "ipython3",
   "version": "3.9.9"
  }
 },
 "nbformat": 4,
 "nbformat_minor": 5
}
