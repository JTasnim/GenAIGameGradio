{
 "cells": [
  {
   "cell_type": "code",
   "execution_count": 1,
   "id": "09e6dddb-0747-41b3-9977-38179ceabc04",
   "metadata": {},
   "outputs": [],
   "source": [
    "import os\n",
    "import io\n",
    "from IPython.display import Image, display, HTML\n",
    "from PIL import Image\n",
    "import base64 \n",
    "import requests, json\n",
    "\n",
    "from dotenv import load_dotenv, find_dotenv\n",
    "# read local .env file\n",
    "_ = load_dotenv(find_dotenv()) \n",
    "hf_api_key = os.environ['HF_API_KEY']"
   ]
  },
  {
   "cell_type": "code",
   "execution_count": 2,
   "id": "64f61e8c-dc85-40de-b6fd-320fce7be2e0",
   "metadata": {},
   "outputs": [],
   "source": [
    "#######################################################\n",
    "# Here we are going to call multiple endpoints!\n",
    "# - inputs: The data to be sent to the API.\n",
    "# - parameters: Additional parameters that can be \n",
    "#   included in the API request (optional).\n",
    "# - ENDPOINT_URL: The URL of the API endpoint \n",
    "#   (optional).\n",
    "# \n",
    "# Note:\n",
    "# - The function get_completion is designed to send a \n",
    "#   POST request to a specified API endpoint \n",
    "#   (ENDPOINT_URL). \n",
    "# - The term \"multiple endpoints\" might be used in the \n",
    "#   comment to imply that this function could be \n",
    "#   adapted to work with different API endpoints by \n",
    "#   calling it with different URLs.\n",
    "#######################################################\n"
   ]
  },
  {
   "cell_type": "code",
   "execution_count": 2,
   "id": "c6f811bb-cdf9-468c-af0d-02bc1751e46f",
   "metadata": {},
   "outputs": [],
   "source": [
    "import requests\n",
    "import json\n",
    "\n",
    "def get_completion(inputs, parameters=None, ENDPOINT_URL=\"\"):\n",
    "    # Set up headers for the API request, including the Authorization token\n",
    "    headers = {\n",
    "        \"Authorization\": f\"Bearer {hf_api_key}\",\n",
    "        \"Content-Type\": \"application/json\"\n",
    "    }\n",
    "\n",
    "    # Prepare the data payload for the POST request\n",
    "    data = {\"inputs\": inputs}\n",
    "\n",
    "    # If parameters are provided, add them to the data payload\n",
    "    if parameters is not None:\n",
    "        data.update({\"parameters\": parameters})\n",
    "\n",
    "    # Send a POST request to the specified endpoint URL\n",
    "    response = requests.post(ENDPOINT_URL, headers=headers, data=json.dumps(data))\n",
    "\n",
    "    # Check if the response is JSON or binary content\n",
    "    try:\n",
    "        # Try to parse and return the JSON response\n",
    "        return response.json()\n",
    "    except json.JSONDecodeError:\n",
    "        # If it's binary data, handle it as needed\n",
    "        return response.content  # Return raw binary if JSON decoding fails\n",
    "\n"
   ]
  },
  {
   "cell_type": "code",
   "execution_count": 4,
   "id": "5a2b5c7d-7564-4284-9778-e4763d3f704c",
   "metadata": {},
   "outputs": [],
   "source": [
    "#######################################################\n",
    "# Step 1: text-to-image\n",
    "#######################################################\n"
   ]
  },
  {
   "cell_type": "code",
   "execution_count": 3,
   "id": "595932b5-ae10-4dde-a144-d0261696e340",
   "metadata": {},
   "outputs": [],
   "source": [
    "TTI_ENDPOINT = os.environ['HF_API_TTI_BASE']\n",
    "# image-to-text\n",
    "ITT_ENDPOINT = os.environ['HF_API_ITT_BASE']"
   ]
  },
  {
   "cell_type": "code",
   "execution_count": 6,
   "id": "8b8488da-5909-4e65-a742-a5359e9a161e",
   "metadata": {},
   "outputs": [],
   "source": [
    "#######################################################\n",
    "# Step 2: Building your game with `gr.Blocks()`\n",
    "#######################################################\n"
   ]
  },
  {
   "cell_type": "code",
   "execution_count": 7,
   "id": "df43200a-573c-4aee-b6d7-2fb7a5f84da0",
   "metadata": {},
   "outputs": [],
   "source": [
    "def image_to_base64_str(pil_image):\n",
    "    byte_arr = io.BytesIO()\n",
    "    pil_image.save(byte_arr, format='PNG')\n",
    "    byte_arr = byte_arr.getvalue()\n",
    "    return str(base64.b64encode(byte_arr).\n",
    "          decode('utf-8'))\n",
    "\n",
    "# def base64_to_pil(img_base64):\n",
    "#     base64_decoded = base64.b64decode(img_base64)\n",
    "#     byte_stream = io.BytesIO(base64_decoded)\n",
    "#     pil_image = Image.open(byte_stream)\n",
    "#     return pil_image\n",
    "\n",
    "def base64_to_pil(img_base64):\n",
    "    try:\n",
    "        # Decode the base64 string\n",
    "        base64_decoded = base64.b64decode(img_base64)\n",
    "        # Load it into a BytesIO stream\n",
    "        byte_stream = BytesIO(base64_decoded)\n",
    "        # Attempt to open as an image\n",
    "        pil_image = Image.open(byte_stream)\n",
    "        pil_image.verify()  # Verify the image integrity\n",
    "        pil_image = Image.open(byte_stream)  # Re-open for actual use if verified\n",
    "        return pil_image\n",
    "    except (base64.binascii.Error, PIL.UnidentifiedImageError) as e:\n",
    "        print(\"Error decoding or identifying image:\", e)\n",
    "        return None  # Return None if there is an issue\n",
    "\n",
    "# Lession 2: Image Captioning\n",
    "def captioner(image):\n",
    "    base64_image = image_to_base64_str(image)\n",
    "    result = get_completion(base64_image, \n",
    "          None, ITT_ENDPOINT)\n",
    "    print(result)\n",
    "    return result[0]['generated_text']\n",
    "\n",
    "# Lession 3: Image Generation App\n",
    "def generate(prompt):\n",
    "    output = get_completion(prompt, None, TTI_ENDPOINT)\n",
    "    result_image = base64_to_pil(output)\n",
    "    return result_image\n",
    "\n"
   ]
  },
  {
   "cell_type": "code",
   "execution_count": 8,
   "id": "01fe2c1b-247f-41bf-9771-f52c0e711e4e",
   "metadata": {},
   "outputs": [],
   "source": [
    "#######################################################\n",
    "# Step 4: First attempt, just captioning\n",
    "#######################################################\n"
   ]
  },
  {
   "cell_type": "code",
   "execution_count": 9,
   "id": "920a1b6f-f30e-4a54-acdb-f318833a9c9e",
   "metadata": {},
   "outputs": [
    {
     "name": "stdout",
     "output_type": "stream",
     "text": [
      "Running on local URL:  http://127.0.0.1:7860\n",
      "Running on public URL: https://71d7001adfa333b37f.gradio.live\n",
      "\n",
      "This share link expires in 72 hours. For free permanent hosting and GPU upgrades, run `gradio deploy` from Terminal to deploy to Spaces (https://huggingface.co/spaces)\n"
     ]
    },
    {
     "data": {
      "text/html": [
       "<div><iframe src=\"https://71d7001adfa333b37f.gradio.live\" width=\"100%\" height=\"500\" allow=\"autoplay; camera; microphone; clipboard-read; clipboard-write;\" frameborder=\"0\" allowfullscreen></iframe></div>"
      ],
      "text/plain": [
       "<IPython.core.display.HTML object>"
      ]
     },
     "metadata": {},
     "output_type": "display_data"
    },
    {
     "data": {
      "text/plain": []
     },
     "execution_count": 9,
     "metadata": {},
     "output_type": "execute_result"
    }
   ],
   "source": [
    "import gradio as gr \n",
    "with gr.Blocks() as demo:\n",
    "    gr.Markdown(\"# Describe-and-Generate game\")\n",
    "    image_upload = gr.Image(label=\n",
    "            \"Your first image\",type=\"pil\")\n",
    "    btn_caption = gr.Button(\"Generate caption\")\n",
    "    caption = gr.Textbox(label=\"Generated caption\")\n",
    "    \n",
    "    btn_caption.click(fn=captioner, \n",
    "          inputs=[image_upload], outputs=[caption])\n",
    "\n",
    "gr.close_all()\n",
    "demo.launch(share=True, server_port=\n",
    "          int(os.environ['PORT1']))\n"
   ]
  },
  {
   "cell_type": "code",
   "execution_count": 10,
   "id": "b2d38cdd-8f54-49ef-bd7b-0437b9b9d156",
   "metadata": {},
   "outputs": [],
   "source": [
    "#######################################################\n",
    "# Step 5: Let's add generation\n",
    "#######################################################\n"
   ]
  },
  {
   "cell_type": "code",
   "execution_count": 11,
   "id": "f0bb7385-24e6-45c3-86e2-5fa34dc4c148",
   "metadata": {},
   "outputs": [
    {
     "name": "stdout",
     "output_type": "stream",
     "text": [
      "Running on local URL:  http://127.0.0.1:7861\n",
      "Running on public URL: https://b7ee4d27008fe025b3.gradio.live\n",
      "\n",
      "This share link expires in 72 hours. For free permanent hosting and GPU upgrades, run `gradio deploy` from Terminal to deploy to Spaces (https://huggingface.co/spaces)\n"
     ]
    },
    {
     "data": {
      "text/html": [
       "<div><iframe src=\"https://b7ee4d27008fe025b3.gradio.live\" width=\"100%\" height=\"500\" allow=\"autoplay; camera; microphone; clipboard-read; clipboard-write;\" frameborder=\"0\" allowfullscreen></iframe></div>"
      ],
      "text/plain": [
       "<IPython.core.display.HTML object>"
      ]
     },
     "metadata": {},
     "output_type": "display_data"
    },
    {
     "data": {
      "text/plain": []
     },
     "execution_count": 11,
     "metadata": {},
     "output_type": "execute_result"
    },
    {
     "name": "stderr",
     "output_type": "stream",
     "text": [
      "Traceback (most recent call last):\n",
      "  File \"/Users/jubaidatasnim/.pyenv/versions/3.9.9/lib/python3.9/site-packages/gradio/queueing.py\", line 536, in process_events\n",
      "    response = await route_utils.call_process_api(\n",
      "  File \"/Users/jubaidatasnim/.pyenv/versions/3.9.9/lib/python3.9/site-packages/gradio/route_utils.py\", line 322, in call_process_api\n",
      "    output = await app.get_blocks().process_api(\n",
      "  File \"/Users/jubaidatasnim/.pyenv/versions/3.9.9/lib/python3.9/site-packages/gradio/blocks.py\", line 1935, in process_api\n",
      "    result = await self.call_function(\n",
      "  File \"/Users/jubaidatasnim/.pyenv/versions/3.9.9/lib/python3.9/site-packages/gradio/blocks.py\", line 1520, in call_function\n",
      "    prediction = await anyio.to_thread.run_sync(  # type: ignore\n",
      "  File \"/Users/jubaidatasnim/.pyenv/versions/3.9.9/lib/python3.9/site-packages/anyio/to_thread.py\", line 56, in run_sync\n",
      "    return await get_async_backend().run_sync_in_worker_thread(\n",
      "  File \"/Users/jubaidatasnim/.pyenv/versions/3.9.9/lib/python3.9/site-packages/anyio/_backends/_asyncio.py\", line 2357, in run_sync_in_worker_thread\n",
      "    return await future\n",
      "  File \"/Users/jubaidatasnim/.pyenv/versions/3.9.9/lib/python3.9/site-packages/anyio/_backends/_asyncio.py\", line 864, in run\n",
      "    result = context.run(func, *args)\n",
      "  File \"/Users/jubaidatasnim/.pyenv/versions/3.9.9/lib/python3.9/site-packages/gradio/utils.py\", line 826, in wrapper\n",
      "    response = f(*args, **kwargs)\n",
      "  File \"/var/folders/3b/hb39h5915jl4fr6p11f7f0yh0000gn/T/ipykernel_19715/324299326.py\", line 40, in generate\n",
      "    result_image = base64_to_pil(output)\n",
      "  File \"/var/folders/3b/hb39h5915jl4fr6p11f7f0yh0000gn/T/ipykernel_19715/4056406764.py\", line 13, in base64_to_pil\n",
      "    pil_image = Image.open(byte_stream)\n",
      "  File \"/Users/jubaidatasnim/.pyenv/versions/3.9.9/lib/python3.9/site-packages/PIL/Image.py\", line 3498, in open\n",
      "    raise UnidentifiedImageError(msg)\n",
      "PIL.UnidentifiedImageError: cannot identify image file <_io.BytesIO object at 0x138b05310>\n",
      "Traceback (most recent call last):\n",
      "  File \"/Users/jubaidatasnim/.pyenv/versions/3.9.9/lib/python3.9/site-packages/gradio/queueing.py\", line 536, in process_events\n",
      "    response = await route_utils.call_process_api(\n",
      "  File \"/Users/jubaidatasnim/.pyenv/versions/3.9.9/lib/python3.9/site-packages/gradio/route_utils.py\", line 322, in call_process_api\n",
      "    output = await app.get_blocks().process_api(\n",
      "  File \"/Users/jubaidatasnim/.pyenv/versions/3.9.9/lib/python3.9/site-packages/gradio/blocks.py\", line 1935, in process_api\n",
      "    result = await self.call_function(\n",
      "  File \"/Users/jubaidatasnim/.pyenv/versions/3.9.9/lib/python3.9/site-packages/gradio/blocks.py\", line 1520, in call_function\n",
      "    prediction = await anyio.to_thread.run_sync(  # type: ignore\n",
      "  File \"/Users/jubaidatasnim/.pyenv/versions/3.9.9/lib/python3.9/site-packages/anyio/to_thread.py\", line 56, in run_sync\n",
      "    return await get_async_backend().run_sync_in_worker_thread(\n",
      "  File \"/Users/jubaidatasnim/.pyenv/versions/3.9.9/lib/python3.9/site-packages/anyio/_backends/_asyncio.py\", line 2357, in run_sync_in_worker_thread\n",
      "    return await future\n",
      "  File \"/Users/jubaidatasnim/.pyenv/versions/3.9.9/lib/python3.9/site-packages/anyio/_backends/_asyncio.py\", line 864, in run\n",
      "    result = context.run(func, *args)\n",
      "  File \"/Users/jubaidatasnim/.pyenv/versions/3.9.9/lib/python3.9/site-packages/gradio/utils.py\", line 826, in wrapper\n",
      "    response = f(*args, **kwargs)\n",
      "  File \"/var/folders/3b/hb39h5915jl4fr6p11f7f0yh0000gn/T/ipykernel_19715/324299326.py\", line 40, in generate\n",
      "    result_image = base64_to_pil(output)\n",
      "  File \"/var/folders/3b/hb39h5915jl4fr6p11f7f0yh0000gn/T/ipykernel_19715/4056406764.py\", line 13, in base64_to_pil\n",
      "    pil_image = Image.open(byte_stream)\n",
      "  File \"/Users/jubaidatasnim/.pyenv/versions/3.9.9/lib/python3.9/site-packages/PIL/Image.py\", line 3498, in open\n",
      "    raise UnidentifiedImageError(msg)\n",
      "PIL.UnidentifiedImageError: cannot identify image file <_io.BytesIO object at 0x1382b4b30>\n"
     ]
    }
   ],
   "source": [
    "with gr.Blocks() as demo:\n",
    "    gr.Markdown(\"# Describe-and-Generate game \")\n",
    "    image_upload = gr.Image(label=\n",
    "          \"Your first image\",type=\"pil\")\n",
    "    btn_caption = gr.Button(\"Generate caption\")\n",
    "    caption = gr.Textbox(label=\"Generated caption\")\n",
    "    btn_image = gr.Button(\"Generate image\")\n",
    "    image_output = gr.Image(label=\"Generated Image\")\n",
    "    btn_caption.click(fn=captioner, \n",
    "          inputs=[image_upload], outputs=[caption])\n",
    "    btn_image.click(fn=generate, \n",
    "          inputs=[caption], outputs=[image_output])\n",
    "\n",
    "gr.close_all()\n",
    "demo.launch(share=True, \n",
    "          server_port=int(os.environ['PORT2']))"
   ]
  },
  {
   "cell_type": "code",
   "execution_count": 12,
   "id": "8b8db2ae-c3d6-4c49-bf3e-d0a3b5c3e9bc",
   "metadata": {},
   "outputs": [],
   "source": [
    "#######################################################\n",
    "# Step 6: Doing it all at once! \n",
    "#        Lession 2: Image Captioning\n",
    "#        Lession 3: Image Generation App\n",
    "#######################################################\n"
   ]
  },
  {
   "cell_type": "code",
   "execution_count": 13,
   "id": "329290f9-84a9-4f5e-83c0-f979f683d8e8",
   "metadata": {},
   "outputs": [
    {
     "name": "stdout",
     "output_type": "stream",
     "text": [
      "Running on local URL:  http://127.0.0.1:7863\n",
      "Running on public URL: https://83c9602de3553a1096.gradio.live\n",
      "\n",
      "This share link expires in 72 hours. For free permanent hosting and GPU upgrades, run `gradio deploy` from Terminal to deploy to Spaces (https://huggingface.co/spaces)\n"
     ]
    },
    {
     "data": {
      "text/html": [
       "<div><iframe src=\"https://83c9602de3553a1096.gradio.live\" width=\"100%\" height=\"500\" allow=\"autoplay; camera; microphone; clipboard-read; clipboard-write;\" frameborder=\"0\" allowfullscreen></iframe></div>"
      ],
      "text/plain": [
       "<IPython.core.display.HTML object>"
      ]
     },
     "metadata": {},
     "output_type": "display_data"
    },
    {
     "data": {
      "text/plain": []
     },
     "execution_count": 13,
     "metadata": {},
     "output_type": "execute_result"
    },
    {
     "name": "stderr",
     "output_type": "stream",
     "text": [
      "Traceback (most recent call last):\n",
      "  File \"/Users/jubaidatasnim/.pyenv/versions/3.9.9/lib/python3.9/site-packages/gradio/queueing.py\", line 536, in process_events\n",
      "    response = await route_utils.call_process_api(\n",
      "  File \"/Users/jubaidatasnim/.pyenv/versions/3.9.9/lib/python3.9/site-packages/gradio/route_utils.py\", line 322, in call_process_api\n",
      "    output = await app.get_blocks().process_api(\n",
      "  File \"/Users/jubaidatasnim/.pyenv/versions/3.9.9/lib/python3.9/site-packages/gradio/blocks.py\", line 1935, in process_api\n",
      "    result = await self.call_function(\n",
      "  File \"/Users/jubaidatasnim/.pyenv/versions/3.9.9/lib/python3.9/site-packages/gradio/blocks.py\", line 1520, in call_function\n",
      "    prediction = await anyio.to_thread.run_sync(  # type: ignore\n",
      "  File \"/Users/jubaidatasnim/.pyenv/versions/3.9.9/lib/python3.9/site-packages/anyio/to_thread.py\", line 56, in run_sync\n",
      "    return await get_async_backend().run_sync_in_worker_thread(\n",
      "  File \"/Users/jubaidatasnim/.pyenv/versions/3.9.9/lib/python3.9/site-packages/anyio/_backends/_asyncio.py\", line 2357, in run_sync_in_worker_thread\n",
      "    return await future\n",
      "  File \"/Users/jubaidatasnim/.pyenv/versions/3.9.9/lib/python3.9/site-packages/anyio/_backends/_asyncio.py\", line 864, in run\n",
      "    result = context.run(func, *args)\n",
      "  File \"/Users/jubaidatasnim/.pyenv/versions/3.9.9/lib/python3.9/site-packages/gradio/utils.py\", line 826, in wrapper\n",
      "    response = f(*args, **kwargs)\n",
      "  File \"/var/folders/3b/hb39h5915jl4fr6p11f7f0yh0000gn/T/ipykernel_19715/4056406764.py\", line 33, in caption_and_generate\n",
      "    generated_image = generate(caption)  # Generate image based on caption\n",
      "  File \"/var/folders/3b/hb39h5915jl4fr6p11f7f0yh0000gn/T/ipykernel_19715/4056406764.py\", line 26, in generate\n",
      "    result_image = base64_to_pil(output)\n",
      "  File \"/var/folders/3b/hb39h5915jl4fr6p11f7f0yh0000gn/T/ipykernel_19715/4056406764.py\", line 13, in base64_to_pil\n",
      "    pil_image = Image.open(byte_stream)\n",
      "  File \"/Users/jubaidatasnim/.pyenv/versions/3.9.9/lib/python3.9/site-packages/PIL/Image.py\", line 3498, in open\n",
      "    raise UnidentifiedImageError(msg)\n",
      "PIL.UnidentifiedImageError: cannot identify image file <_io.BytesIO object at 0x1382b9f90>\n"
     ]
    }
   ],
   "source": [
    "import gradio as gr \n",
    "\n",
    "def image_to_base64_str(pil_image):\n",
    "    byte_arr = io.BytesIO()\n",
    "    pil_image.save(byte_arr, format='PNG')\n",
    "    byte_arr = byte_arr.getvalue()\n",
    "    return str(base64.b64encode(byte_arr).\n",
    "          decode('utf-8'))\n",
    "\n",
    "def base64_to_pil(img_base64):\n",
    "    base64_decoded = base64.b64decode(img_base64)\n",
    "    byte_stream = io.BytesIO(base64_decoded)\n",
    "    pil_image = Image.open(byte_stream)\n",
    "    return pil_image\n",
    "\n",
    "def captioner(image):\n",
    "    base64_image = image_to_base64_str(image)\n",
    "    result = get_completion(base64_image, \n",
    "          None, ITT_ENDPOINT)\n",
    "    print(result[0])\n",
    "    return result[0]['generated_text']\n",
    "\n",
    "# Define the generate function to create an image based on the caption\n",
    "def generate(caption):\n",
    "    output = get_completion(caption, None, TTI_ENDPOINT)\n",
    "    result_image = base64_to_pil(output)\n",
    "    return result_image\n",
    "\n",
    "\n",
    "# Function to generate caption and image based on uploaded image\n",
    "def caption_and_generate(image):\n",
    "    caption = captioner(image)  # Generate caption\n",
    "    generated_image = generate(caption)  # Generate image based on caption\n",
    "    return [caption, generated_image]\n",
    "\n",
    "with gr.Blocks() as demo:\n",
    "    gr.Markdown(\"# Describe-and-Generate game\")\n",
    "    image_upload = gr.Image(label=\n",
    "          \"Your first image\",type=\"pil\")\n",
    "    btn_all = gr.Button(\"Caption and generate\")\n",
    "    caption = gr.Textbox(label=\"Generated caption\")\n",
    "    image_output = gr.Image(label=\"Generated Image\")\n",
    "\n",
    "    btn_all.click(fn=caption_and_generate, \n",
    "      inputs=[image_upload], \n",
    "          outputs=[caption, image_output])\n",
    "\n",
    "gr.close_all()\n",
    "demo.launch(share=True, \n",
    "          server_port=int(os.environ['PORT3']))"
   ]
  },
  {
   "cell_type": "code",
   "execution_count": 1,
   "id": "8873a96d-4598-4e1c-9d49-0dfc6878722c",
   "metadata": {},
   "outputs": [
    {
     "name": "stdout",
     "output_type": "stream",
     "text": [
      "Running on local URL:  http://127.0.0.1:7863\n",
      "Running on public URL: https://5748e4d091d379c1cc.gradio.live\n",
      "\n",
      "This share link expires in 72 hours. For free permanent hosting and GPU upgrades, run `gradio deploy` from Terminal to deploy to Spaces (https://huggingface.co/spaces)\n"
     ]
    },
    {
     "data": {
      "text/html": [
       "<div><iframe src=\"https://5748e4d091d379c1cc.gradio.live\" width=\"100%\" height=\"500\" allow=\"autoplay; camera; microphone; clipboard-read; clipboard-write;\" frameborder=\"0\" allowfullscreen></iframe></div>"
      ],
      "text/plain": [
       "<IPython.core.display.HTML object>"
      ]
     },
     "metadata": {},
     "output_type": "display_data"
    },
    {
     "data": {
      "text/plain": []
     },
     "execution_count": 1,
     "metadata": {},
     "output_type": "execute_result"
    },
    {
     "name": "stdout",
     "output_type": "stream",
     "text": [
      "Error: Response is binary but not in base64 format.\n"
     ]
    }
   ],
   "source": [
    "#test\n",
    "import os\n",
    "import io\n",
    "import base64\n",
    "import requests\n",
    "import json\n",
    "from PIL import Image\n",
    "from dotenv import load_dotenv, find_dotenv\n",
    "import gradio as gr\n",
    "\n",
    "# Load API keys from .env file\n",
    "_ = load_dotenv(find_dotenv())\n",
    "hf_api_key = os.environ['HF_API_KEY']\n",
    "TTI_ENDPOINT = os.environ['HF_API_TTI_BASE']\n",
    "ITT_ENDPOINT = os.environ['HF_API_ITT_BASE']\n",
    "\n",
    "# Helper function to make API request and handle JSON/binary responses\n",
    "def get_completion(inputs, parameters=None, ENDPOINT_URL=\"\"):\n",
    "    headers = {\n",
    "        \"Authorization\": f\"Bearer {hf_api_key}\",\n",
    "        \"Content-Type\": \"application/json\"\n",
    "    }\n",
    "    data = {\"inputs\": inputs}\n",
    "    if parameters is not None:\n",
    "        data.update({\"parameters\": parameters})\n",
    "    \n",
    "    response = requests.post(ENDPOINT_URL, headers=headers, data=json.dumps(data))\n",
    "    \n",
    "    # Check if response is JSON or binary content\n",
    "    try:\n",
    "        return response.json()\n",
    "    except json.JSONDecodeError:\n",
    "        # If binary, return the raw content\n",
    "        return response.content\n",
    "\n",
    "# Function to convert PIL image to base64 string\n",
    "def image_to_base64_str(pil_image):\n",
    "    byte_arr = io.BytesIO()\n",
    "    pil_image.save(byte_arr, format='PNG')\n",
    "    byte_arr = byte_arr.getvalue()\n",
    "    return base64.b64encode(byte_arr).decode('utf-8')\n",
    "\n",
    "# Function to convert base64 string to PIL image\n",
    "def base64_to_pil(img_base64):\n",
    "    try:\n",
    "        base64_decoded = base64.b64decode(img_base64)\n",
    "        byte_stream = io.BytesIO(base64_decoded)\n",
    "        pil_image = Image.open(byte_stream)\n",
    "        return pil_image\n",
    "    except (base64.binascii.Error, PIL.UnidentifiedImageError) as e:\n",
    "        print(\"Error decoding image:\", e)\n",
    "        return None\n",
    "\n",
    "# Image Captioning Function\n",
    "def captioner(image):\n",
    "    base64_image = image_to_base64_str(image)\n",
    "    result = get_completion(base64_image, None, ITT_ENDPOINT)\n",
    "    \n",
    "    # Check if response is valid JSON and has 'generated_text' field\n",
    "    if isinstance(result, list) and 'generated_text' in result[0]:\n",
    "        return result[0]['generated_text']\n",
    "    else:\n",
    "        print(\"Error in captioning response:\", result)\n",
    "        return \"Error generating caption.\"\n",
    "\n",
    "# Image Generation Function\n",
    "def generate(prompt):\n",
    "    output = get_completion(prompt, None, TTI_ENDPOINT)\n",
    "    \n",
    "    # Check if the output is in JSON format or binary content\n",
    "    if isinstance(output, bytes):\n",
    "        try:\n",
    "            # Directly interpret the binary response as an image\n",
    "            byte_stream = io.BytesIO(output)\n",
    "            result_image = Image.open(byte_stream)\n",
    "            return result_image\n",
    "        except (IOError, PIL.UnidentifiedImageError) as e:\n",
    "            # Handle the error if the binary data is not a valid image\n",
    "            print(\"Error interpreting binary image data:\", e)\n",
    "            return \"Error: Unexpected binary data.\"\n",
    "    elif isinstance(output, dict):\n",
    "        # Check if the expected base64 image key is in the dictionary\n",
    "        if 'generated_image_base64' in output:\n",
    "            img_base64 = output['generated_image_base64']\n",
    "            return base64_to_pil(img_base64)\n",
    "        else:\n",
    "            print(\"Error in image generation response:\", output)\n",
    "            return \"Error generating image.\"\n",
    "    else:\n",
    "        print(\"Error: Unexpected response format.\")\n",
    "        return \"Error: Unexpected response format from API.\"\n",
    "\n",
    "\n",
    "\n",
    "\n",
    "# Gradio interface\n",
    "def caption_and_generate(image):\n",
    "    caption = captioner(image)\n",
    "    generated_image = generate(caption)\n",
    "    return [caption, generated_image]\n",
    "\n",
    "with gr.Blocks() as demo:\n",
    "    gr.Markdown(\"# Describe-and-Generate game\")\n",
    "    image_upload = gr.Image(label=\"Your first image\", type=\"pil\")\n",
    "    btn_all = gr.Button(\"Caption and generate\")\n",
    "    caption = gr.Textbox(label=\"Generated caption\")\n",
    "    image_output = gr.Image(label=\"Generated Image\")\n",
    "\n",
    "    btn_all.click(fn=caption_and_generate, inputs=[image_upload], outputs=[caption, image_output])\n",
    "\n",
    "demo.launch(share=True, server_port=int(os.environ['PORT3']))\n"
   ]
  },
  {
   "cell_type": "code",
   "execution_count": 14,
   "id": "b7555749-2b57-4ebd-ae71-dc6cd343e893",
   "metadata": {},
   "outputs": [],
   "source": [
    "gr.close_all()"
   ]
  },
  {
   "cell_type": "code",
   "execution_count": 15,
   "id": "bc967288-8f01-45fa-8052-3bc852e825b4",
   "metadata": {},
   "outputs": [
    {
     "name": "stdout",
     "output_type": "stream",
     "text": [
      "API Key is valid\n",
      "[{'generated_text': 'the virgin mountains covered in snow'}]\n",
      "[{'generated_text': 'zion trail in zion canyon'}]\n",
      "{'generated_text': 'the red rocks of zion zion zion zion zion zion zion zion zion zion zion zion zion zion zion'}\n"
     ]
    }
   ],
   "source": [
    "import requests\n",
    "\n",
    "HF_API_KEY = \"your_actual_huggingface_api_key_here\"\n",
    "API_URL = \"https://api-inference.huggingface.co/models/Salesforce/blip-image-captioning-base\"\n",
    "headers = {\"Authorization\": f\"Bearer {HF_API_KEY}\"}\n",
    "\n",
    "response = requests.get(API_URL, headers=headers)\n",
    "if response.status_code == 200:\n",
    "    print(\"API Key is valid\")\n",
    "else:\n",
    "    print(f\"API Key issue: {response.text}\")\n"
   ]
  },
  {
   "cell_type": "code",
   "execution_count": null,
   "id": "549b36aa-bc34-4343-98cb-e0a4cb4c8d11",
   "metadata": {},
   "outputs": [],
   "source": []
  }
 ],
 "metadata": {
  "kernelspec": {
   "display_name": "Python 3 (ipykernel)",
   "language": "python",
   "name": "python3"
  },
  "language_info": {
   "codemirror_mode": {
    "name": "ipython",
    "version": 3
   },
   "file_extension": ".py",
   "mimetype": "text/x-python",
   "name": "python",
   "nbconvert_exporter": "python",
   "pygments_lexer": "ipython3",
   "version": "3.9.9"
  }
 },
 "nbformat": 4,
 "nbformat_minor": 5
}
